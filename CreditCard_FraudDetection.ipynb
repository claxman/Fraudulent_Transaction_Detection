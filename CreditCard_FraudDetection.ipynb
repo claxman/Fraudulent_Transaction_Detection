{
 "cells": [
  {
   "cell_type": "code",
   "execution_count": 0,
   "metadata": {
    "colab": {},
    "colab_type": "code",
    "id": "Wm-8QN8M0SzB"
   },
   "outputs": [],
   "source": [
    "import numpy as np\n",
    "import pandas as pd\n",
    "import matplotlib.pyplot as plt"
   ]
  },
  {
   "cell_type": "code",
   "execution_count": 0,
   "metadata": {
    "colab": {
     "base_uri": "https://localhost:8080/",
     "height": 247
    },
    "colab_type": "code",
    "id": "kzgyQjqH0SzG",
    "outputId": "bbd92141-0192-49c0-e2e6-3e39cdf6ef0c"
   },
   "outputs": [
    {
     "data": {
      "text/html": [
       "<div>\n",
       "<style scoped>\n",
       "    .dataframe tbody tr th:only-of-type {\n",
       "        vertical-align: middle;\n",
       "    }\n",
       "\n",
       "    .dataframe tbody tr th {\n",
       "        vertical-align: top;\n",
       "    }\n",
       "\n",
       "    .dataframe thead th {\n",
       "        text-align: right;\n",
       "    }\n",
       "</style>\n",
       "<table border=\"1\" class=\"dataframe\">\n",
       "  <thead>\n",
       "    <tr style=\"text-align: right;\">\n",
       "      <th></th>\n",
       "      <th>Time</th>\n",
       "      <th>V1</th>\n",
       "      <th>V2</th>\n",
       "      <th>V3</th>\n",
       "      <th>V4</th>\n",
       "      <th>V5</th>\n",
       "      <th>V6</th>\n",
       "      <th>V7</th>\n",
       "      <th>V8</th>\n",
       "      <th>V9</th>\n",
       "      <th>V10</th>\n",
       "      <th>V11</th>\n",
       "      <th>V12</th>\n",
       "      <th>V13</th>\n",
       "      <th>V14</th>\n",
       "      <th>V15</th>\n",
       "      <th>V16</th>\n",
       "      <th>V17</th>\n",
       "      <th>V18</th>\n",
       "      <th>V19</th>\n",
       "      <th>V20</th>\n",
       "      <th>V21</th>\n",
       "      <th>V22</th>\n",
       "      <th>V23</th>\n",
       "      <th>V24</th>\n",
       "      <th>V25</th>\n",
       "      <th>V26</th>\n",
       "      <th>V27</th>\n",
       "      <th>V28</th>\n",
       "      <th>Amount</th>\n",
       "      <th>Class</th>\n",
       "    </tr>\n",
       "  </thead>\n",
       "  <tbody>\n",
       "    <tr>\n",
       "      <th>14</th>\n",
       "      <td>12.0</td>\n",
       "      <td>-2.791855</td>\n",
       "      <td>-0.327771</td>\n",
       "      <td>1.641750</td>\n",
       "      <td>1.767473</td>\n",
       "      <td>-0.136588</td>\n",
       "      <td>0.807596</td>\n",
       "      <td>-0.422911</td>\n",
       "      <td>-1.907107</td>\n",
       "      <td>0.755713</td>\n",
       "      <td>1.151087</td>\n",
       "      <td>0.844555</td>\n",
       "      <td>0.792944</td>\n",
       "      <td>0.370448</td>\n",
       "      <td>-0.734975</td>\n",
       "      <td>0.406796</td>\n",
       "      <td>-0.303058</td>\n",
       "      <td>-0.155869</td>\n",
       "      <td>0.778265</td>\n",
       "      <td>2.221868</td>\n",
       "      <td>-1.582122</td>\n",
       "      <td>1.151663</td>\n",
       "      <td>0.222182</td>\n",
       "      <td>1.020586</td>\n",
       "      <td>0.028317</td>\n",
       "      <td>-0.232746</td>\n",
       "      <td>-0.235557</td>\n",
       "      <td>-0.164778</td>\n",
       "      <td>-0.030154</td>\n",
       "      <td>58.80</td>\n",
       "      <td>0.0</td>\n",
       "    </tr>\n",
       "    <tr>\n",
       "      <th>15</th>\n",
       "      <td>12.0</td>\n",
       "      <td>-0.752417</td>\n",
       "      <td>0.345485</td>\n",
       "      <td>2.057323</td>\n",
       "      <td>-1.468643</td>\n",
       "      <td>-1.158394</td>\n",
       "      <td>-0.077850</td>\n",
       "      <td>-0.608581</td>\n",
       "      <td>0.003603</td>\n",
       "      <td>-0.436167</td>\n",
       "      <td>0.747731</td>\n",
       "      <td>-0.793981</td>\n",
       "      <td>-0.770407</td>\n",
       "      <td>1.047627</td>\n",
       "      <td>-1.066604</td>\n",
       "      <td>1.106953</td>\n",
       "      <td>1.660114</td>\n",
       "      <td>-0.279265</td>\n",
       "      <td>-0.419994</td>\n",
       "      <td>0.432535</td>\n",
       "      <td>0.263451</td>\n",
       "      <td>0.499625</td>\n",
       "      <td>1.353650</td>\n",
       "      <td>-0.256573</td>\n",
       "      <td>-0.065084</td>\n",
       "      <td>-0.039124</td>\n",
       "      <td>-0.087086</td>\n",
       "      <td>-0.180998</td>\n",
       "      <td>0.129394</td>\n",
       "      <td>15.99</td>\n",
       "      <td>0.0</td>\n",
       "    </tr>\n",
       "    <tr>\n",
       "      <th>16</th>\n",
       "      <td>12.0</td>\n",
       "      <td>1.103215</td>\n",
       "      <td>-0.040296</td>\n",
       "      <td>1.267332</td>\n",
       "      <td>1.289091</td>\n",
       "      <td>-0.735997</td>\n",
       "      <td>0.288069</td>\n",
       "      <td>-0.586057</td>\n",
       "      <td>0.189380</td>\n",
       "      <td>0.782333</td>\n",
       "      <td>-0.267975</td>\n",
       "      <td>-0.450311</td>\n",
       "      <td>0.936708</td>\n",
       "      <td>0.708380</td>\n",
       "      <td>-0.468647</td>\n",
       "      <td>0.354574</td>\n",
       "      <td>-0.246635</td>\n",
       "      <td>-0.009212</td>\n",
       "      <td>-0.595912</td>\n",
       "      <td>-0.575682</td>\n",
       "      <td>-0.113910</td>\n",
       "      <td>-0.024612</td>\n",
       "      <td>0.196002</td>\n",
       "      <td>0.013802</td>\n",
       "      <td>0.103758</td>\n",
       "      <td>0.364298</td>\n",
       "      <td>-0.382261</td>\n",
       "      <td>0.092809</td>\n",
       "      <td>0.037051</td>\n",
       "      <td>12.99</td>\n",
       "      <td>0.0</td>\n",
       "    </tr>\n",
       "    <tr>\n",
       "      <th>17</th>\n",
       "      <td>13.0</td>\n",
       "      <td>-0.436905</td>\n",
       "      <td>0.918966</td>\n",
       "      <td>0.924591</td>\n",
       "      <td>-0.727219</td>\n",
       "      <td>0.915679</td>\n",
       "      <td>-0.127867</td>\n",
       "      <td>0.707642</td>\n",
       "      <td>0.087962</td>\n",
       "      <td>-0.665271</td>\n",
       "      <td>-0.737980</td>\n",
       "      <td>0.324098</td>\n",
       "      <td>0.277192</td>\n",
       "      <td>0.252624</td>\n",
       "      <td>-0.291896</td>\n",
       "      <td>-0.184520</td>\n",
       "      <td>1.143174</td>\n",
       "      <td>-0.928709</td>\n",
       "      <td>0.680470</td>\n",
       "      <td>0.025436</td>\n",
       "      <td>-0.047021</td>\n",
       "      <td>-0.194796</td>\n",
       "      <td>-0.672638</td>\n",
       "      <td>-0.156858</td>\n",
       "      <td>-0.888386</td>\n",
       "      <td>-0.342413</td>\n",
       "      <td>-0.049027</td>\n",
       "      <td>0.079692</td>\n",
       "      <td>0.131024</td>\n",
       "      <td>0.89</td>\n",
       "      <td>0.0</td>\n",
       "    </tr>\n",
       "    <tr>\n",
       "      <th>18</th>\n",
       "      <td>14.0</td>\n",
       "      <td>-5.401258</td>\n",
       "      <td>-5.450148</td>\n",
       "      <td>1.186305</td>\n",
       "      <td>1.736239</td>\n",
       "      <td>3.049106</td>\n",
       "      <td>-1.763406</td>\n",
       "      <td>-1.559738</td>\n",
       "      <td>0.160842</td>\n",
       "      <td>1.233090</td>\n",
       "      <td>0.345173</td>\n",
       "      <td>0.917230</td>\n",
       "      <td>0.970117</td>\n",
       "      <td>-0.266568</td>\n",
       "      <td>-0.479130</td>\n",
       "      <td>-0.526609</td>\n",
       "      <td>0.472004</td>\n",
       "      <td>-0.725481</td>\n",
       "      <td>0.075081</td>\n",
       "      <td>-0.406867</td>\n",
       "      <td>-2.196848</td>\n",
       "      <td>-0.503600</td>\n",
       "      <td>0.984460</td>\n",
       "      <td>2.458589</td>\n",
       "      <td>0.042119</td>\n",
       "      <td>-0.481631</td>\n",
       "      <td>-0.621272</td>\n",
       "      <td>0.392053</td>\n",
       "      <td>0.949594</td>\n",
       "      <td>46.80</td>\n",
       "      <td>0.0</td>\n",
       "    </tr>\n",
       "    <tr>\n",
       "      <th>19</th>\n",
       "      <td>15.0</td>\n",
       "      <td>1.492936</td>\n",
       "      <td>-1.029346</td>\n",
       "      <td>0.454795</td>\n",
       "      <td>-1.438026</td>\n",
       "      <td>-1.555434</td>\n",
       "      <td>-0.720961</td>\n",
       "      <td>-1.080664</td>\n",
       "      <td>-0.053127</td>\n",
       "      <td>-1.978682</td>\n",
       "      <td>1.638076</td>\n",
       "      <td>1.077542</td>\n",
       "      <td>-0.632047</td>\n",
       "      <td>-0.416957</td>\n",
       "      <td>0.052011</td>\n",
       "      <td>-0.042979</td>\n",
       "      <td>-0.166432</td>\n",
       "      <td>0.304241</td>\n",
       "      <td>0.554432</td>\n",
       "      <td>0.054230</td>\n",
       "      <td>-0.387910</td>\n",
       "      <td>-0.177650</td>\n",
       "      <td>-0.175074</td>\n",
       "      <td>0.040002</td>\n",
       "      <td>0.295814</td>\n",
       "      <td>0.332931</td>\n",
       "      <td>-0.220385</td>\n",
       "      <td>0.022298</td>\n",
       "      <td>0.007602</td>\n",
       "      <td>5.00</td>\n",
       "      <td>0.0</td>\n",
       "    </tr>\n",
       "  </tbody>\n",
       "</table>\n",
       "</div>"
      ],
      "text/plain": [
       "    Time        V1        V2        V3  ...       V27       V28  Amount  Class\n",
       "14  12.0 -2.791855 -0.327771  1.641750  ... -0.164778 -0.030154   58.80    0.0\n",
       "15  12.0 -0.752417  0.345485  2.057323  ... -0.180998  0.129394   15.99    0.0\n",
       "16  12.0  1.103215 -0.040296  1.267332  ...  0.092809  0.037051   12.99    0.0\n",
       "17  13.0 -0.436905  0.918966  0.924591  ...  0.079692  0.131024    0.89    0.0\n",
       "18  14.0 -5.401258 -5.450148  1.186305  ...  0.392053  0.949594   46.80    0.0\n",
       "19  15.0  1.492936 -1.029346  0.454795  ...  0.022298  0.007602    5.00    0.0\n",
       "\n",
       "[6 rows x 31 columns]"
      ]
     },
     "execution_count": 97,
     "metadata": {
      "tags": []
     },
     "output_type": "execute_result"
    }
   ],
   "source": [
    "df = pd.read_csv('creditcard.csv')\n",
    "df[14:20]"
   ]
  },
  {
   "cell_type": "code",
   "execution_count": 0,
   "metadata": {
    "colab": {},
    "colab_type": "code",
    "id": "MCJqj2Hq0SzJ"
   },
   "outputs": [],
   "source": [
    "df.fillna(0,inplace=True)\n",
    "print(df.isnull().sum())"
   ]
  },
  {
   "cell_type": "code",
   "execution_count": 0,
   "metadata": {
    "colab": {
     "base_uri": "https://localhost:8080/",
     "height": 301
    },
    "colab_type": "code",
    "id": "v_uGWK9R0SzM",
    "outputId": "8d23f864-aadd-415d-c99c-784047cebf9c"
   },
   "outputs": [
    {
     "name": "stdout",
     "output_type": "stream",
     "text": [
      "                Time             V1  ...         Amount          Class\n",
      "count  234628.000000  234628.000000  ...  234628.000000  234628.000000\n",
      "mean    80997.737031      -0.059631  ...      91.116960       0.001807\n",
      "std     40546.212756       1.957887  ...     252.546629       0.042472\n",
      "min         0.000000     -56.407510  ...       0.000000       0.000000\n",
      "25%     48489.750000      -0.945713  ...       6.000000       0.000000\n",
      "50%     74631.000000      -0.023583  ...      23.450000       0.000000\n",
      "75%    122574.000000       1.248698  ...      79.990000       0.000000\n",
      "max    148051.000000       2.454930  ...   19656.530000       1.000000\n",
      "\n",
      "[8 rows x 31 columns]\n",
      "Index(['Time', 'V1', 'V2', 'V3', 'V4', 'V5', 'V6', 'V7', 'V8', 'V9', 'V10',\n",
      "       'V11', 'V12', 'V13', 'V14', 'V15', 'V16', 'V17', 'V18', 'V19', 'V20',\n",
      "       'V21', 'V22', 'V23', 'V24', 'V25', 'V26', 'V27', 'V28', 'Amount',\n",
      "       'Class'],\n",
      "      dtype='object')\n"
     ]
    }
   ],
   "source": [
    "print(df.describe())\n",
    "print(df.columns)"
   ]
  },
  {
   "cell_type": "code",
   "execution_count": 0,
   "metadata": {
    "colab": {},
    "colab_type": "code",
    "id": "DK4w4tFaAwv2"
   },
   "outputs": [],
   "source": [
    "df=df[['Time','V1','V2','V3','V4','V5','V6','Amount','Class']]"
   ]
  },
  {
   "cell_type": "code",
   "execution_count": 0,
   "metadata": {
    "colab": {
     "base_uri": "https://localhost:8080/",
     "height": 34
    },
    "colab_type": "code",
    "id": "t1ZJJurH0SzS",
    "outputId": "c66d20f0-d6e6-4f17-8344-7299f0518830",
    "scrolled": false
   },
   "outputs": [
    {
     "name": "stdout",
     "output_type": "stream",
     "text": [
      "(23463, 9)\n"
     ]
    }
   ],
   "source": [
    "df=df.sample(frac=0.1)\n",
    "print(df.shape)"
   ]
  },
  {
   "cell_type": "code",
   "execution_count": 0,
   "metadata": {
    "colab": {
     "base_uri": "https://localhost:8080/",
     "height": 70
    },
    "colab_type": "code",
    "id": "FB9AnTRJ0SzX",
    "outputId": "34beb76f-bd51-4a49-e6e4-70e13a885bef",
    "scrolled": true
   },
   "outputs": [
    {
     "name": "stdout",
     "output_type": "stream",
     "text": [
      "  Anomaly_Fraction :  0.001536688436419516\n",
      "       Fraud Cases : 36\n",
      "Valid Transactions : 23427\n"
     ]
    }
   ],
   "source": [
    "Fraud = df[df['Class'] == 1]\n",
    "Valid = df[df['Class'] == 0]\n",
    "anomaly_fraction = (len(Fraud)/float(len(Valid)))\n",
    "print('  Anomaly_Fraction : ',anomaly_fraction)\n",
    "print('       Fraud Cases : {}'.format(len(Fraud)))\n",
    "print('Valid Transactions : {}'.format(len(Valid)))"
   ]
  },
  {
   "cell_type": "code",
   "execution_count": 0,
   "metadata": {
    "colab": {
     "base_uri": "https://localhost:8080/",
     "height": 52
    },
    "colab_type": "code",
    "id": "Ns-hOkHd0Sza",
    "outputId": "be437d0d-c5c8-4abc-a91b-7adb57fca6ef",
    "scrolled": true
   },
   "outputs": [
    {
     "name": "stdout",
     "output_type": "stream",
     "text": [
      "(23463, 8)\n",
      "(23463,)\n"
     ]
    }
   ],
   "source": [
    "columns = df.columns.tolist()\n",
    "\n",
    "columns = [c for c in columns if c not in [\"Class\"]]\n",
    "\n",
    "target = \"Class\"\n",
    "\n",
    "X = df[columns]\n",
    "Y = df[target]\n",
    "print(X.shape)\n",
    "print(Y.shape)"
   ]
  },
  {
   "cell_type": "code",
   "execution_count": 0,
   "metadata": {
    "colab": {},
    "colab_type": "code",
    "id": "KcVok3zM0Szd"
   },
   "outputs": [],
   "source": [
    "from sklearn.metrics import classification_report, accuracy_score\n",
    "from sklearn.neighbors import LocalOutlierFactor\n",
    "\n",
    "clf = LocalOutlierFactor(\n",
    "        n_neighbors=20,\n",
    "        contamination=anomaly_fraction)"
   ]
  },
  {
   "cell_type": "code",
   "execution_count": 0,
   "metadata": {
    "colab": {
     "base_uri": "https://localhost:8080/",
     "height": 230
    },
    "colab_type": "code",
    "id": "ohzVPM260Szf",
    "outputId": "ca02b559-4290-496a-a7ff-4fecdfd48cf8",
    "scrolled": false
   },
   "outputs": [
    {
     "name": "stdout",
     "output_type": "stream",
     "text": [
      "Local Outlier Factor: 73\n",
      "0.9968887184077058\n",
      "              precision    recall  f1-score   support\n",
      "\n",
      "         0.0       1.00      1.00      1.00     23427\n",
      "         1.0       0.00      0.00      0.00        36\n",
      "\n",
      "    accuracy                           1.00     23463\n",
      "   macro avg       0.50      0.50      0.50     23463\n",
      "weighted avg       1.00      1.00      1.00     23463\n",
      "\n"
     ]
    },
    {
     "data": {
      "text/plain": [
       "<Figure size 648x504 with 0 Axes>"
      ]
     },
     "metadata": {
      "tags": []
     },
     "output_type": "display_data"
    }
   ],
   "source": [
    "plt.figure(figsize=(9, 7))\n",
    "n_outliers = len(Fraud)\n",
    "y_pred = clf.fit_predict(X)\n",
    "scores_pred = clf.negative_outlier_factor_\n",
    "    # Reshape the prediction values to 0 for valid, 1 for fraud. \n",
    "y_pred[y_pred == 1] = 0\n",
    "y_pred[y_pred == -1] = 1\n",
    "    \n",
    "n_errors = (y_pred != Y).sum()\n",
    "    \n",
    "    # Run classification metrics\n",
    "print('Local Outlier Factor: {}'.format( n_errors))\n",
    "print(accuracy_score(Y, y_pred))\n",
    "print(classification_report(Y, y_pred))"
   ]
  },
  {
   "cell_type": "code",
   "execution_count": 0,
   "metadata": {
    "colab": {},
    "colab_type": "code",
    "id": "zYTDhJGl0Szi"
   },
   "outputs": [],
   "source": [
    "import pickle\n",
    "with open('Credit_Card_fraud_detection.pkl', 'wb') as file:\n",
    "    pickle.dump(clf, file)"
   ]
  }
 ],
 "metadata": {
  "colab": {
   "collapsed_sections": [],
   "name": "CreditCard_FraudDetection.ipynb",
   "provenance": [],
   "toc_visible": true,
   "version": "0.3.2"
  },
  "kernelspec": {
   "display_name": "Python 3",
   "language": "python",
   "name": "python3"
  },
  "language_info": {
   "codemirror_mode": {
    "name": "ipython",
    "version": 3
   },
   "file_extension": ".py",
   "mimetype": "text/x-python",
   "name": "python",
   "nbconvert_exporter": "python",
   "pygments_lexer": "ipython3",
   "version": "3.7.6"
  }
 },
 "nbformat": 4,
 "nbformat_minor": 1
}
